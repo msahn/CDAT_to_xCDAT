{
 "cells": [
  {
   "cell_type": "markdown",
   "metadata": {},
   "source": [
    "# Precipitation Variability Across Timescales with CDAT"
   ]
  },
  {
   "cell_type": "code",
   "execution_count": 1,
   "metadata": {},
   "outputs": [],
   "source": [
    "from user_choices import demo_data_directory, demo_output_directory"
   ]
  },
  {
   "cell_type": "markdown",
   "metadata": {},
   "source": [
    "### Parameter file\n",
    "Settings can be specified in a parameter file or on the command line. The basic case demonstrated here uses a parameter file, which is printed below.  \n",
    "\n",
    "Note that this driver should only be used to run **one** model or dataset at a time.  \n",
    "\n",
    "The `mod` variable can either be set to a particular file name, as shown here, or to a model name (i.e. \"GISS-E2-H\")."
   ]
  },
  {
   "cell_type": "code",
   "execution_count": 2,
   "metadata": {},
   "outputs": [
    {
     "name": "stdout",
     "output_type": "stream",
     "text": [
      "mip = \"cmip5\"\n",
      "exp = \"historical\"\n",
      "mod = \"pr.day.GISS-E2-H.historical.r6i1p1.20000101-20051231.xml\"\n",
      "var = \"pr\"\n",
      "frq = \"day\"\n",
      "modpath = 'demo_data/CMIP5_demo_timeseries/historical/atmos/day/pr/'\n",
      "results_dir = 'demo_output/precip_variability/GISS-E2-H/'\n",
      "prd = [2000,2005]  # analysis period\n",
      "fac = 86400  # factor to make unit of [mm/day]\n",
      "\n",
      "# length of segment in power spectra (~10 years)\n",
      "# shortened to 2 years for demo purposes\n",
      "nperseg = 2 * 365\n",
      "# length of overlap between segments in power spectra (~5 years)\n",
      "# shortened to 1 year for demo purposes\n",
      "noverlap = 1 * 365\n",
      "\n",
      "# flag for cmec formatted JSON\n",
      "cmec = False\n",
      "\n"
     ]
    }
   ],
   "source": [
    "# print parameter file\n",
    "with open(\"basic_precip_variability_param.py\") as f:\n",
    "    print(f.read())"
   ]
  },
  {
   "cell_type": "markdown",
   "metadata": {},
   "source": [
    "### Model file\n",
    "\n",
    "The precipitation variability metrics driver requires that model and observation file names follow this template:\n",
    "`variable.frequency.model.experiment.realization.dates.extension`\n",
    "\n",
    "Our sample model precipitation does not follow that format, so the next cell generates an XML file with a compliant name to use with the driver."
   ]
  },
  {
   "cell_type": "code",
   "execution_count": 3,
   "metadata": {},
   "outputs": [
    {
     "name": "stderr",
     "output_type": "stream",
     "text": [
      "/home/ahn6/anaconda3/envs/xCDAT_cdat/bin/cdscan:1723: DeprecationWarning: `np.float` is a deprecated alias for the builtin `float`. To silence this warning, use `float` by itself. Doing this will not modify any behavior and is safe. If you specifically wanted the numpy scalar type, use `np.float64` here.\n",
      "Deprecated in NumPy 1.20; for more details and guidance: https://numpy.org/devdocs/release/1.20.0-notes.html#deprecations\n",
      "  if tcode in [numpy.float32, numpy.float, numpy.int16,\n",
      "/home/ahn6/anaconda3/envs/xCDAT_cdat/bin/cdscan:1724: DeprecationWarning: `np.int` is a deprecated alias for the builtin `int`. To silence this warning, use `int` by itself. Doing this will not modify any behavior and is safe. When replacing `np.int`, you may wish to use e.g. `np.int64` or `np.int32` to specify the precision. If you wish to review your current use, check the release note link for additional information.\n",
      "Deprecated in NumPy 1.20; for more details and guidance: https://numpy.org/devdocs/release/1.20.0-notes.html#deprecations\n",
      "  numpy.int32, numpy.int, numpy.intc, numpy.int8]:\n",
      "/home/ahn6/anaconda3/envs/xCDAT_cdat/bin/cdscan:1787: DeprecationWarning: `np.float` is a deprecated alias for the builtin `float`. To silence this warning, use `float` by itself. Doing this will not modify any behavior and is safe. If you specifically wanted the numpy scalar type, use `np.float64` here.\n",
      "Deprecated in NumPy 1.20; for more details and guidance: https://numpy.org/devdocs/release/1.20.0-notes.html#deprecations\n",
      "  if tcode in [numpy.float32, numpy.float, numpy.int16,\n",
      "/home/ahn6/anaconda3/envs/xCDAT_cdat/bin/cdscan:1788: DeprecationWarning: `np.int` is a deprecated alias for the builtin `int`. To silence this warning, use `int` by itself. Doing this will not modify any behavior and is safe. When replacing `np.int`, you may wish to use e.g. `np.int64` or `np.int32` to specify the precision. If you wish to review your current use, check the release note link for additional information.\n",
      "Deprecated in NumPy 1.20; for more details and guidance: https://numpy.org/devdocs/release/1.20.0-notes.html#deprecations\n",
      "  numpy.int32, numpy.int, numpy.intc, numpy.int8]:\n"
     ]
    },
    {
     "name": "stdout",
     "output_type": "stream",
     "text": [
      "Finding common directory ...\n",
      "Common directory: \n",
      "Scanning files ...\n",
      "pr_day_GISS-E2-H_historical_r6i1p1_20000101-20051231.nc\n",
      "Setting reference time units to days since 2000-1-1\n",
      "pr.day.GISS-E2-H.historical.r6i1p1.20000101-20051231.xml written\n"
     ]
    }
   ],
   "source": [
    "%%bash -s \"$demo_data_directory\"\n",
    "cd $1/CMIP5_demo_timeseries/historical/atmos/day/pr/\n",
    "cdscan -x  pr.day.GISS-E2-H.historical.r6i1p1.20000101-20051231.xml *.nc"
   ]
  },
  {
   "cell_type": "markdown",
   "metadata": {},
   "source": [
    "### Running the driver\n",
    "The parameter file is passed to the driver using the `-p` flag, similar to other PMP metrics. The basic command is:  \n",
    "`variability_across_timescales_PS_driver.py -p parameter_file_name.py`\n",
    "\n",
    "The next cell uses the command line syntax to execute the driver as a subprocess."
   ]
  },
  {
   "cell_type": "code",
   "execution_count": 4,
   "metadata": {
    "scrolled": true
   },
   "outputs": [
    {
     "name": "stderr",
     "output_type": "stream",
     "text": [
      "INFO::2022-08-18 09:55::pcmdi_metrics:: Results saved to a json file: /home/ahn6/PCMDI/xCDAT_test/pcmdi_metrics/pcmdi_metrics/precip_variability_demo_cdat/demo_output/precip_variability/GISS-E2-H/PS_pr.day_regrid.180x90_area.freq.mean_GISS-E2-H.historical.json\n"
     ]
    },
    {
     "name": "stdout",
     "output_type": "stream",
     "text": [
      "demo_data/CMIP5_demo_timeseries/historical/atmos/day/pr/\n",
      "pr.day.GISS-E2-H.historical.r6i1p1.20000101-20051231.xml\n",
      "[2000, 2005]\n",
      "730 365\n",
      "demo_output/precip_variability/GISS-E2-H/\n",
      "demo_output/precip_variability/GISS-E2-H/\n",
      "demo_output/precip_variability/GISS-E2-H/\n",
      "Number of datasets: 1\n",
      "Dataset: ['GISS-E2-H.historical']\n",
      "GISS-E2-H.historical noleap\n",
      "syr, eyr: 2000 2005\n",
      "2000\n",
      "Complete regridding from (365, 90, 144) to (365, 90, 180)\n",
      "2000 (365, 90, 180)\n",
      "2001\n",
      "Complete regridding from (365, 90, 144) to (365, 90, 180)\n",
      "2001 (730, 90, 180)\n",
      "2002\n",
      "Complete regridding from (365, 90, 144) to (365, 90, 180)\n",
      "2002 (1095, 90, 180)\n",
      "2003\n",
      "Complete regridding from (365, 90, 144) to (365, 90, 180)\n",
      "2003 (1460, 90, 180)\n",
      "2004\n",
      "Complete regridding from (365, 90, 144) to (365, 90, 180)\n",
      "2004 (1825, 90, 180)\n",
      "2005\n",
      "Complete regridding from (365, 90, 144) to (365, 90, 180)\n",
      "2005 (2190, 90, 180)\n",
      "Complete calculating climatology and anomaly for calendar of noleap\n",
      "Complete power spectra (segment:  730  nps: 5.0 )\n",
      "Complete domain and frequency average of spectral power\n",
      "Complete power spectra (segment:  730  nps: 5.0 )\n",
      "Complete domain and frequency average of spectral power\n"
     ]
    }
   ],
   "source": [
    "%%bash\n",
    "# variability_across_timescales_PS_driver.py -p basic_precip_variability_param.py\n",
    "python ./code/variability_across_timescales_PS_driver.py -p basic_precip_variability_param.py"
   ]
  },
  {
   "cell_type": "markdown",
   "metadata": {},
   "source": [
    "### Results\n",
    "Running the precipitation variability driver produces three output files, found in the demo output directory:  \n",
    "\n",
    "Spatial pattern of spectral power (forced variability) (netCDF)   \n",
    "Spatial pattern of spectral power (unforced variability) (netCDF)  \n",
    "Average of spectral power (forced and unforced) (JSON)  "
   ]
  },
  {
   "cell_type": "code",
   "execution_count": 5,
   "metadata": {},
   "outputs": [
    {
     "name": "stdout",
     "output_type": "stream",
     "text": [
      "PS_pr.day_regrid.180x90_area.freq.mean_GISS-E2-H.historical.json\n",
      "PS_pr.day_regrid.180x90_GISS-E2-H.historical.nc\n",
      "PS_pr.day_regrid.180x90_GISS-E2-H.historical_unforced.nc\n"
     ]
    }
   ],
   "source": [
    "!ls {demo_output_directory + \"/precip_variability/GISS-E2-H\"}"
   ]
  },
  {
   "cell_type": "markdown",
   "metadata": {},
   "source": [
    "The next cell displays the metrics from the JSON file."
   ]
  },
  {
   "cell_type": "code",
   "execution_count": 6,
   "metadata": {},
   "outputs": [
    {
     "name": "stdout",
     "output_type": "stream",
     "text": [
      "{\n",
      "  \"GISS-E2-H.historical\": {\n",
      "    \"forced\": {\n",
      "      \"Land_30N50N\": {\n",
      "        \"annual\": 1.1549259632229723,\n",
      "        \"semi-annual\": 0.3695792972517699\n",
      "      },\n",
      "      \"Land_30S30N\": {\n",
      "        \"annual\": 6.867182286952285,\n",
      "        \"semi-annual\": 1.1973130839359387\n",
      "      },\n",
      "      \"Land_50S30S\": {\n",
      "        \"annual\": 0.7833102360471575,\n",
      "        \"semi-annual\": 0.33415474921186844\n",
      "      },\n",
      "      \"Land_50S50N\": {\n",
      "        \"annual\": 4.804355868733509,\n",
      "        \"semi-annual\": 0.899283744186818\n",
      "      },\n",
      "      \"Ocean_30N50N\": {\n",
      "        \"annual\": 1.447189195760683,\n",
      "        \"semi-annual\": 0.3724802065559291\n",
      "      },\n",
      "      \"Ocean_30S30N\": {\n",
      "        \"annual\": 4.569082186991045,\n",
      "        \"semi-annual\": 1.5047969231749088\n",
      "      },\n",
      "      \"Ocean_50S30S\": {\n",
      "        \"annual\": 0.5919548020770594,\n",
      "        \"semi-annual\": 0.1928088759665084\n",
      "      },\n",
      "      \"Ocean_50S50N\": {\n",
      "        \"annual\": 3.310355604111878,\n",
      "        \"semi-annual\": 1.076677225895386\n",
      "      },\n",
      "      \"Total_30N50N\": {\n",
      "        \"annual\": 1.3116137610936278,\n",
      "        \"semi-annual\": 0.37113452911157135\n",
      "      },\n",
      "      \"Total_30S30N\": {\n",
      "        \"annual\": 5.156428181351081,\n",
      "        \"semi-annual\": 1.4262105285655087\n",
      "      },\n",
      "      \"Total_50S30S\": {\n",
      "        \"annual\": 0.6056973091238494,\n",
      "        \"semi-annual\": 0.2029598636798367\n",
      "      },\n",
      "      \"Total_50S50N\": {\n",
      "        \"annual\": 3.698557040790938,\n",
      "        \"semi-annual\": 1.0305832551729588\n",
      "      }\n",
      "    },\n",
      "    \"unforced\": {\n",
      "      \"Land_30N50N\": {\n",
      "        \"interannual\": 0.11037168355762557,\n",
      "        \"seasonal-annual\": 0.1504938958560814,\n",
      "        \"sub-seasonal\": 0.13618359698071195,\n",
      "        \"synoptic\": 0.06283897471189702\n",
      "      },\n",
      "      \"Land_30S30N\": {\n",
      "        \"interannual\": 0.31273408731700925,\n",
      "        \"seasonal-annual\": 0.30938138785840175,\n",
      "        \"sub-seasonal\": 0.24402021514695105,\n",
      "        \"synoptic\": 0.07556756458932476\n",
      "      },\n",
      "      \"Land_50S30S\": {\n",
      "        \"interannual\": 0.15285943106444666,\n",
      "        \"seasonal-annual\": 0.2042415774272863,\n",
      "        \"sub-seasonal\": 0.17215553403047001,\n",
      "        \"synoptic\": 0.07140970548940222\n",
      "      },\n",
      "      \"Land_50S50N\": {\n",
      "        \"interannual\": 0.24232739801284806,\n",
      "        \"seasonal-annual\": 0.25507915342816695,\n",
      "        \"sub-seasonal\": 0.20714108958572194,\n",
      "        \"synoptic\": 0.07142206771250155\n",
      "      },\n",
      "      \"Ocean_30N50N\": {\n",
      "        \"interannual\": 0.1324847179019073,\n",
      "        \"seasonal-annual\": 0.17559411659927668,\n",
      "        \"sub-seasonal\": 0.15438800790906432,\n",
      "        \"synoptic\": 0.0983234739839394\n",
      "      },\n",
      "      \"Ocean_30S30N\": {\n",
      "        \"interannual\": 0.6532431992538728,\n",
      "        \"seasonal-annual\": 0.63784160710743,\n",
      "        \"sub-seasonal\": 0.43471544075372676,\n",
      "        \"synoptic\": 0.1144667570515457\n",
      "      },\n",
      "      \"Ocean_50S30S\": {\n",
      "        \"interannual\": 0.0984395842657922,\n",
      "        \"seasonal-annual\": 0.1337093129524112,\n",
      "        \"sub-seasonal\": 0.12043392875811695,\n",
      "        \"synoptic\": 0.06911852119910643\n",
      "      },\n",
      "      \"Ocean_50S50N\": {\n",
      "        \"interannual\": 0.466928916495708,\n",
      "        \"seasonal-annual\": 0.46992093626879594,\n",
      "        \"sub-seasonal\": 0.3310183167321489,\n",
      "        \"synoptic\": 0.10256124019704362\n",
      "      },\n",
      "      \"Total_30N50N\": {\n",
      "        \"interannual\": 0.1222268958111772,\n",
      "        \"seasonal-annual\": 0.16395059473732418,\n",
      "        \"sub-seasonal\": 0.14594332294804857,\n",
      "        \"synoptic\": 0.08186287998113678\n",
      "      },\n",
      "      \"Total_30S30N\": {\n",
      "        \"interannual\": 0.5662162403574416,\n",
      "        \"seasonal-annual\": 0.5538940914679715,\n",
      "        \"sub-seasonal\": 0.38597775656598704,\n",
      "        \"synoptic\": 0.10452494256012687\n",
      "      },\n",
      "      \"Total_50S30S\": {\n",
      "        \"interannual\": 0.10234783558951795,\n",
      "        \"seasonal-annual\": 0.13877470420606905,\n",
      "        \"sub-seasonal\": 0.12414840140297365,\n",
      "        \"synoptic\": 0.06928306638918347\n",
      "      },\n",
      "      \"Total_50S50N\": {\n",
      "        \"interannual\": 0.4085683966082318,\n",
      "        \"seasonal-annual\": 0.41409638875538185,\n",
      "        \"sub-seasonal\": 0.29883002420715343,\n",
      "        \"synoptic\": 0.09447002911646334\n",
      "      }\n",
      "    }\n",
      "  }\n",
      "}\n"
     ]
    }
   ],
   "source": [
    "import json\n",
    "import os\n",
    "output_path = os.path.join(demo_output_directory,\"precip_variability/GISS-E2-H/PS_pr.day_regrid.180x90_area.freq.mean_GISS-E2-H.historical.json\")\n",
    "with open(output_path) as f:\n",
    "    metric = json.load(f)[\"RESULTS\"]\n",
    "print(json.dumps(metric, indent=2))"
   ]
  },
  {
   "cell_type": "code",
   "execution_count": null,
   "metadata": {},
   "outputs": [],
   "source": []
  }
 ],
 "metadata": {
  "kernelspec": {
   "display_name": "Python [conda env:xCDAT_cdat]",
   "language": "python",
   "name": "conda-env-xCDAT_cdat-py"
  },
  "language_info": {
   "codemirror_mode": {
    "name": "ipython",
    "version": 3
   },
   "file_extension": ".py",
   "mimetype": "text/x-python",
   "name": "python",
   "nbconvert_exporter": "python",
   "pygments_lexer": "ipython3",
   "version": "3.10.5"
  }
 },
 "nbformat": 4,
 "nbformat_minor": 4
}
