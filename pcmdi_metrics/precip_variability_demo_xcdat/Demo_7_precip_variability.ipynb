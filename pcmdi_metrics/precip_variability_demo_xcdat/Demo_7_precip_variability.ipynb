{
 "cells": [
  {
   "cell_type": "markdown",
   "metadata": {},
   "source": [
    "# Precipitation Variability Across Timescales with xCDAT"
   ]
  },
  {
   "cell_type": "code",
   "execution_count": 1,
   "metadata": {},
   "outputs": [],
   "source": [
    "from user_choices import demo_data_directory, demo_output_directory"
   ]
  },
  {
   "cell_type": "markdown",
   "metadata": {},
   "source": [
    "### Parameter file\n",
    "Settings can be specified in a parameter file or on the command line. The basic case demonstrated here uses a parameter file, which is printed below.  \n",
    "\n",
    "Note that this driver should only be used to run **one** model or dataset at a time.  \n",
    "\n",
    "The `mod` variable can either be set to a particular file name, as shown here, or to a model name (i.e. \"GISS-E2-H\")."
   ]
  },
  {
   "cell_type": "code",
   "execution_count": 2,
   "metadata": {},
   "outputs": [
    {
     "name": "stdout",
     "output_type": "stream",
     "text": [
      "mip = \"cmip5\"\n",
      "exp = \"historical\"\n",
      "mod = \"pr.day.GISS-E2-H.historical.r6i1p1.20000101-20051231.nc\"\n",
      "var = \"pr\"\n",
      "frq = \"day\"\n",
      "modpath = 'demo_data/CMIP5_demo_timeseries/historical/atmos/day/pr/'\n",
      "results_dir = 'demo_output/precip_variability/GISS-E2-H/'\n",
      "prd = [2000,2005]  # analysis period\n",
      "fac = 86400  # factor to make unit of [mm/day]\n",
      "\n",
      "# length of segment in power spectra (~10 years)\n",
      "# shortened to 2 years for demo purposes\n",
      "nperseg = 2 * 365\n",
      "# length of overlap between segments in power spectra (~5 years)\n",
      "# shortened to 1 year for demo purposes\n",
      "noverlap = 1 * 365\n",
      "\n",
      "# flag for cmec formatted JSON\n",
      "cmec = False\n",
      "\n"
     ]
    }
   ],
   "source": [
    "# print parameter file\n",
    "with open(\"basic_precip_variability_param.py\") as f:\n",
    "    print(f.read())"
   ]
  },
  {
   "cell_type": "markdown",
   "metadata": {},
   "source": [
    "### Model file\n",
    "\n",
    "The precipitation variability metrics driver requires that model and observation file names follow this template:\n",
    "`variable.frequency.model.experiment.realization.dates.extension`\n",
    "\n",
    "Our sample model precipitation does not follow that format, so the next cell generates an XML file with a compliant name to use with the driver."
   ]
  },
  {
   "cell_type": "code",
   "execution_count": 3,
   "metadata": {},
   "outputs": [],
   "source": [
    "# %%bash -s \"$demo_data_directory\"\n",
    "# cd $1/CMIP5_demo_timeseries/historical/atmos/day/pr/\n",
    "# cdscan -x  pr.day.GISS-E2-H.historical.r6i1p1.20000101-20051231.xml *.nc"
   ]
  },
  {
   "cell_type": "markdown",
   "metadata": {},
   "source": [
    "### Running the driver\n",
    "The parameter file is passed to the driver using the `-p` flag, similar to other PMP metrics. The basic command is:  \n",
    "`variability_across_timescales_PS_driver.py -p parameter_file_name.py`\n",
    "\n",
    "The next cell uses the command line syntax to execute the driver as a subprocess."
   ]
  },
  {
   "cell_type": "markdown",
   "metadata": {},
   "source": [
    "#### Run for GISS-E2-H"
   ]
  },
  {
   "cell_type": "code",
   "execution_count": 4,
   "metadata": {
    "scrolled": true
   },
   "outputs": [
    {
     "name": "stderr",
     "output_type": "stream",
     "text": [
      "INFO::2022-08-31 14:37::pcmdi_metrics:: Results saved to a json file: /home/ahn6/PCMDI/xCDAT_test/pcmdi_metrics/pcmdi_metrics/precip_variability_demo_xcdat/demo_output/precip_variability/GISS-E2-H/PS_pr.day_regrid.180x90_area.freq.mean_GISS-E2-H.historical.json\n",
      "2022-08-31 14:37:14,123 [INFO]: base.py(write:224) >> Results saved to a json file: /home/ahn6/PCMDI/xCDAT_test/pcmdi_metrics/pcmdi_metrics/precip_variability_demo_xcdat/demo_output/precip_variability/GISS-E2-H/PS_pr.day_regrid.180x90_area.freq.mean_GISS-E2-H.historical.json\n"
     ]
    },
    {
     "name": "stdout",
     "output_type": "stream",
     "text": [
      "demo_data/CMIP5_demo_timeseries/historical/atmos/day/pr/\n",
      "pr.day.GISS-E2-H.historical.r6i1p1.20000101-20051231.nc\n",
      "[2000, 2005]\n",
      "730 365\n",
      "demo_output/precip_variability/GISS-E2-H/\n",
      "demo_output/precip_variability/GISS-E2-H/\n",
      "demo_output/precip_variability/GISS-E2-H/\n",
      "Number of datasets: 1\n",
      "Dataset: ['GISS-E2-H.historical']\n",
      "GISS-E2-H.historical 365_day\n",
      "syr, eyr: 2000 2005\n",
      "2000\n",
      "Complete regridding from (365, 90, 144) to (365, 90, 180)\n",
      "2000 (365, 90, 180)\n",
      "2001\n",
      "Complete regridding from (365, 90, 144) to (365, 90, 180)\n",
      "2001 (730, 90, 180)\n",
      "2002\n",
      "Complete regridding from (365, 90, 144) to (365, 90, 180)\n",
      "2002 (1095, 90, 180)\n",
      "2003\n",
      "Complete regridding from (365, 90, 144) to (365, 90, 180)\n",
      "2003 (1460, 90, 180)\n",
      "2004\n",
      "Complete regridding from (365, 90, 144) to (365, 90, 180)\n",
      "2004 (1825, 90, 180)\n",
      "2005\n",
      "Complete regridding from (365, 90, 144) to (365, 90, 180)\n",
      "2005 (2190, 90, 180)\n",
      "Complete calculating climatology and anomaly for calendar of 365_day\n",
      "Complete power spectra (segment:  730  nps: 5.0 )\n",
      "Complete domain and frequency average of spectral power\n",
      "Complete power spectra (segment:  730  nps: 5.0 )\n",
      "Complete domain and frequency average of spectral power\n"
     ]
    }
   ],
   "source": [
    "%%bash\n",
    "# variability_across_timescales_PS_driver.py -p basic_precip_variability_param.py\n",
    "python ./code/variability_across_timescales_PS_driver.py -p basic_precip_variability_param.py --mod pr.day.GISS-E2-H.historical.r6i1p1.20000101-20051231.nc "
   ]
  },
  {
   "cell_type": "markdown",
   "metadata": {},
   "source": [
    "### Results\n",
    "Running the precipitation variability driver produces three output files, found in the demo output directory:  \n",
    "\n",
    "Spatial pattern of spectral power (forced variability) (netCDF)   \n",
    "Spatial pattern of spectral power (unforced variability) (netCDF)  \n",
    "Average of spectral power (forced and unforced) (JSON)  "
   ]
  },
  {
   "cell_type": "code",
   "execution_count": 5,
   "metadata": {},
   "outputs": [
    {
     "name": "stdout",
     "output_type": "stream",
     "text": [
      "PS_pr.day_regrid.180x90_area.freq.mean_GISS-E2-H.historical.json\n",
      "PS_pr.day_regrid.180x90_GISS-E2-H.historical.nc\n",
      "PS_pr.day_regrid.180x90_GISS-E2-H.historical_unforced.nc\n"
     ]
    }
   ],
   "source": [
    "!ls {demo_output_directory + \"/precip_variability/GISS-E2-H\"}"
   ]
  },
  {
   "cell_type": "markdown",
   "metadata": {},
   "source": [
    "The next cell displays the metrics from the JSON file."
   ]
  },
  {
   "cell_type": "code",
   "execution_count": 6,
   "metadata": {},
   "outputs": [
    {
     "name": "stdout",
     "output_type": "stream",
     "text": [
      "{\n",
      "  \"GISS-E2-H.historical\": {\n",
      "    \"forced\": {\n",
      "      \"Land_30N50N\": {\n",
      "        \"annual\": 1.154266721510137,\n",
      "        \"semi-annual\": 0.3692551744241903\n",
      "      },\n",
      "      \"Land_30S30N\": {\n",
      "        \"annual\": 6.8655960795131294,\n",
      "        \"semi-annual\": 1.1969126049181855\n",
      "      },\n",
      "      \"Land_50S30S\": {\n",
      "        \"annual\": 0.7829928891110198,\n",
      "        \"semi-annual\": 0.33398811326967975\n",
      "      },\n",
      "      \"Land_50S50N\": {\n",
      "        \"annual\": 4.803117924524398,\n",
      "        \"semi-annual\": 0.8989181591887316\n",
      "      },\n",
      "      \"Ocean_30N50N\": {\n",
      "        \"annual\": 1.4467988289024762,\n",
      "        \"semi-annual\": 0.37232162338162866\n",
      "      },\n",
      "      \"Ocean_30S30N\": {\n",
      "        \"annual\": 4.568654517465613,\n",
      "        \"semi-annual\": 1.5044899979603008\n",
      "      },\n",
      "      \"Ocean_50S30S\": {\n",
      "        \"annual\": 0.5918242629787758,\n",
      "        \"semi-annual\": 0.1927211439124904\n",
      "      },\n",
      "      \"Ocean_50S50N\": {\n",
      "        \"annual\": 3.3099973296409195,\n",
      "        \"semi-annual\": 1.0764366904440072\n",
      "      },\n",
      "      \"Total_30N50N\": {\n",
      "        \"annual\": 1.3110986682307972,\n",
      "        \"semi-annual\": 0.3708991551953958\n",
      "      },\n",
      "      \"Total_30S30N\": {\n",
      "        \"annual\": 5.155704413930364,\n",
      "        \"semi-annual\": 1.4258796929688142\n",
      "      },\n",
      "      \"Total_50S30S\": {\n",
      "        \"annual\": 0.6055533541116551,\n",
      "        \"semi-annual\": 0.20286646501255923\n",
      "      },\n",
      "      \"Total_50S50N\": {\n",
      "        \"annual\": 3.6979701926949535,\n",
      "        \"semi-annual\": 1.030310226813203\n",
      "      }\n",
      "    },\n",
      "    \"unforced\": {\n",
      "      \"Land_30N50N\": {\n",
      "        \"interannual\": 0.11027519561502575,\n",
      "        \"seasonal-annual\": 0.15034540027412407,\n",
      "        \"sub-seasonal\": 0.13605316533174094,\n",
      "        \"synoptic\": 0.06277267344693233\n",
      "      },\n",
      "      \"Land_30S30N\": {\n",
      "        \"interannual\": 0.31262787817502063,\n",
      "        \"seasonal-annual\": 0.30924523792899317,\n",
      "        \"sub-seasonal\": 0.243897137677461,\n",
      "        \"synoptic\": 0.07552274806731542\n",
      "      },\n",
      "      \"Land_50S30S\": {\n",
      "        \"interannual\": 0.1527755501819138,\n",
      "        \"seasonal-annual\": 0.2041066189679213,\n",
      "        \"sub-seasonal\": 0.17203311677473293,\n",
      "        \"synoptic\": 0.07133658627473073\n",
      "      },\n",
      "      \"Land_50S50N\": {\n",
      "        \"interannual\": 0.24222527413177844,\n",
      "        \"seasonal-annual\": 0.25493923345176356,\n",
      "        \"sub-seasonal\": 0.20701576396034696,\n",
      "        \"synoptic\": 0.07136923241812429\n",
      "      },\n",
      "      \"Ocean_30N50N\": {\n",
      "        \"interannual\": 0.13240454583620145,\n",
      "        \"seasonal-annual\": 0.17549307553001822,\n",
      "        \"sub-seasonal\": 0.15428702961801613,\n",
      "        \"synoptic\": 0.09824822890957895\n",
      "      },\n",
      "      \"Ocean_30S30N\": {\n",
      "        \"interannual\": 0.6531055721473543,\n",
      "        \"seasonal-annual\": 0.6376662281993245,\n",
      "        \"sub-seasonal\": 0.43458496427824367,\n",
      "        \"synoptic\": 0.11441802205292609\n",
      "      },\n",
      "      \"Ocean_50S30S\": {\n",
      "        \"interannual\": 0.09839333071364982,\n",
      "        \"seasonal-annual\": 0.13364245158376373,\n",
      "        \"sub-seasonal\": 0.12036603745194574,\n",
      "        \"synoptic\": 0.06906461136148313\n",
      "      },\n",
      "      \"Ocean_50S50N\": {\n",
      "        \"interannual\": 0.46681841351291453,\n",
      "        \"seasonal-annual\": 0.4697785382523058,\n",
      "        \"sub-seasonal\": 0.3309051790489744,\n",
      "        \"synoptic\": 0.10250804393167526\n",
      "      },\n",
      "      \"Total_30N50N\": {\n",
      "        \"interannual\": 0.12213915511604374,\n",
      "        \"seasonal-annual\": 0.1638275404092277,\n",
      "        \"sub-seasonal\": 0.14582868179640485,\n",
      "        \"synoptic\": 0.08179178377228893\n",
      "      },\n",
      "      \"Total_30S30N\": {\n",
      "        \"interannual\": 0.5660866430211011,\n",
      "        \"seasonal-annual\": 0.5537287386607875,\n",
      "        \"sub-seasonal\": 0.38584917112064354,\n",
      "        \"synoptic\": 0.10447720904161961\n",
      "      },\n",
      "      \"Total_50S30S\": {\n",
      "        \"interannual\": 0.10229887976839695,\n",
      "        \"seasonal-annual\": 0.13870295233219931,\n",
      "        \"sub-seasonal\": 0.12407659422553256,\n",
      "        \"synoptic\": 0.06922777699836948\n",
      "      },\n",
      "      \"Total_50S50N\": {\n",
      "        \"interannual\": 0.4084600708535113,\n",
      "        \"seasonal-annual\": 0.4139546346334961,\n",
      "        \"sub-seasonal\": 0.29871371960574444,\n",
      "        \"synoptic\": 0.09441692664589409\n",
      "      }\n",
      "    }\n",
      "  }\n",
      "}\n"
     ]
    }
   ],
   "source": [
    "import json\n",
    "import os\n",
    "output_path = os.path.join(demo_output_directory,\"precip_variability/GISS-E2-H/PS_pr.day_regrid.180x90_area.freq.mean_GISS-E2-H.historical.json\")\n",
    "with open(output_path) as f:\n",
    "    metric = json.load(f)[\"RESULTS\"]\n",
    "print(json.dumps(metric, indent=2))"
   ]
  },
  {
   "cell_type": "code",
   "execution_count": null,
   "metadata": {},
   "outputs": [],
   "source": []
  },
  {
   "cell_type": "markdown",
   "metadata": {},
   "source": [
    "#### Run for GPCP-1-3"
   ]
  },
  {
   "cell_type": "code",
   "execution_count": 3,
   "metadata": {
    "scrolled": true
   },
   "outputs": [
    {
     "name": "stderr",
     "output_type": "stream",
     "text": [
      "INFO::2022-11-10 16:19::pcmdi_metrics:: Results saved to a json file: /home/ahn6/PCMDI/xCDAT_test/pcmdi_metrics/pcmdi_metrics/precip_variability_demo_xcdat/demo_output/precip_variability/GPCP-1-3/PS_pr.day_regrid.180x90_area.freq.mean_GPCP-1-3.json\n",
      "2022-11-10 16:19:30,063 [INFO]: base.py(write:224) >> Results saved to a json file: /home/ahn6/PCMDI/xCDAT_test/pcmdi_metrics/pcmdi_metrics/precip_variability_demo_xcdat/demo_output/precip_variability/GPCP-1-3/PS_pr.day_regrid.180x90_area.freq.mean_GPCP-1-3.json\n"
     ]
    },
    {
     "name": "stdout",
     "output_type": "stream",
     "text": [
      "demo_data/obs4MIPs_PCMDI_daily/NASA-JPL/GPCP-1-3/day/pr/gn/latest\n",
      "pr.day.GPCP-1-3.PCMDI.gn.19961002-20170101.nc\n",
      "[2000, 2005]\n",
      "730 365\n",
      "demo_output/precip_variability/GPCP-1-3/\n",
      "demo_output/precip_variability/GPCP-1-3/\n",
      "demo_output/precip_variability/GPCP-1-3/\n",
      "Number of datasets: 1\n",
      "Dataset: ['GPCP-1-3']\n",
      "GPCP-1-3 gregorian\n",
      "syr, eyr: 2000 2005\n",
      "2000\n",
      "Complete regridding from (366, 180, 360) to (366, 90, 180)\n",
      "2000 (366, 90, 180)\n",
      "2001\n",
      "Complete regridding from (365, 180, 360) to (365, 90, 180)\n",
      "2001 (731, 90, 180)\n",
      "2002\n",
      "Complete regridding from (365, 180, 360) to (365, 90, 180)\n",
      "2002 (1096, 90, 180)\n",
      "2003\n",
      "Complete regridding from (365, 180, 360) to (365, 90, 180)\n",
      "2003 (1461, 90, 180)\n",
      "2004\n",
      "Complete regridding from (366, 180, 360) to (366, 90, 180)\n",
      "2004 (1827, 90, 180)\n",
      "2005\n",
      "Complete regridding from (365, 180, 360) to (365, 90, 180)\n",
      "2005 (2192, 90, 180)\n",
      "Complete calculating climatology and anomaly for calendar of gregorian\n",
      "Complete power spectra (segment:  730  nps: 5.0 )\n",
      "Complete domain and frequency average of spectral power\n",
      "Complete power spectra (segment:  730  nps: 5.0 )\n",
      "Complete domain and frequency average of spectral power\n"
     ]
    }
   ],
   "source": [
    "%%bash\n",
    "# python ./code/variability_across_timescales_PS_driver.py -p basic_precip_variability_param.py --mod pr.day.GISS-E2-H.historical.r6i1p1.20000101-20051231.nc\n",
    "python ./code/variability_across_timescales_PS_driver.py -p basic_precip_variability_param_obs.py --mod pr.day.GPCP-1-3.PCMDI.gn.19961002-20170101.nc"
   ]
  },
  {
   "cell_type": "markdown",
   "metadata": {},
   "source": [
    "### Results\n",
    "Running the precipitation variability driver produces three output files, found in the demo output directory:  \n",
    "\n",
    "Spatial pattern of spectral power (forced variability) (netCDF)   \n",
    "Spatial pattern of spectral power (unforced variability) (netCDF)  \n",
    "Average of spectral power (forced and unforced) (JSON)  "
   ]
  },
  {
   "cell_type": "code",
   "execution_count": 4,
   "metadata": {},
   "outputs": [
    {
     "name": "stdout",
     "output_type": "stream",
     "text": [
      "PS_pr.day_regrid.180x90_area.freq.mean_GPCP-1-3.json\n",
      "PS_pr.day_regrid.180x90_GPCP-1-3.nc\n",
      "PS_pr.day_regrid.180x90_GPCP-1-3_unforced.nc\n"
     ]
    }
   ],
   "source": [
    "!ls {demo_output_directory + \"/precip_variability/GPCP-1-3\"}"
   ]
  },
  {
   "cell_type": "markdown",
   "metadata": {},
   "source": [
    "The next cell displays the metrics from the JSON file."
   ]
  },
  {
   "cell_type": "code",
   "execution_count": 5,
   "metadata": {},
   "outputs": [
    {
     "name": "stdout",
     "output_type": "stream",
     "text": [
      "{\n",
      "  \"GPCP-1-3\": {\n",
      "    \"forced\": {\n",
      "      \"Land_30N50N\": {\n",
      "        \"annual\": 0.6938763661227837,\n",
      "        \"semi-annual\": 0.1803814538812088\n",
      "      },\n",
      "      \"Land_30S30N\": {\n",
      "        \"annual\": 5.087184617105678,\n",
      "        \"semi-annual\": 0.901508445204942\n",
      "      },\n",
      "      \"Land_50S30S\": {\n",
      "        \"annual\": 0.6425875742130452,\n",
      "        \"semi-annual\": 0.22273531379335235\n",
      "      },\n",
      "      \"Land_50S50N\": {\n",
      "        \"annual\": 3.5119162000633466,\n",
      "        \"semi-annual\": 0.6453773127986199\n",
      "      },\n",
      "      \"Ocean_30N50N\": {\n",
      "        \"annual\": 1.4084196706673913,\n",
      "        \"semi-annual\": 0.3967216427511556\n",
      "      },\n",
      "      \"Ocean_30S30N\": {\n",
      "        \"annual\": 2.8317620639204524,\n",
      "        \"semi-annual\": 0.7519753201597288\n",
      "      },\n",
      "      \"Ocean_50S30S\": {\n",
      "        \"annual\": 0.41985572742398314,\n",
      "        \"semi-annual\": 0.1845494140263551\n",
      "      },\n",
      "      \"Ocean_50S50N\": {\n",
      "        \"annual\": 2.1275191964369125,\n",
      "        \"semi-annual\": 0.5837293198544151\n",
      "      },\n",
      "      \"Total_30N50N\": {\n",
      "        \"annual\": 1.0769564268617475,\n",
      "        \"semi-annual\": 0.29636548475166197\n",
      "      },\n",
      "      \"Total_30S30N\": {\n",
      "        \"annual\": 3.408200575987474,\n",
      "        \"semi-annual\": 0.790192838196018\n",
      "      },\n",
      "      \"Total_50S30S\": {\n",
      "        \"annual\": 0.4358515834628625,\n",
      "        \"semi-annual\": 0.18729179758844336\n",
      "      },\n",
      "      \"Total_50S50N\": {\n",
      "        \"annual\": 2.4872412918529894,\n",
      "        \"semi-annual\": 0.5997479511733057\n",
      "      }\n",
      "    },\n",
      "    \"unforced\": {\n",
      "      \"Land_30N50N\": {\n",
      "        \"interannual\": 0.0854609405436522,\n",
      "        \"seasonal-annual\": 0.09099012601886819,\n",
      "        \"sub-seasonal\": 0.09554525437094509,\n",
      "        \"synoptic\": 0.057939794800582575\n",
      "      },\n",
      "      \"Land_30S30N\": {\n",
      "        \"interannual\": 0.13746629454235354,\n",
      "        \"seasonal-annual\": 0.18681324625647103,\n",
      "        \"sub-seasonal\": 0.2046979311487345,\n",
      "        \"synoptic\": 0.10250781798942574\n",
      "      },\n",
      "      \"Land_50S30S\": {\n",
      "        \"interannual\": 0.09050596346849911,\n",
      "        \"seasonal-annual\": 0.1174891993395288,\n",
      "        \"sub-seasonal\": 0.1444391877731345,\n",
      "        \"synoptic\": 0.09967085056469888\n",
      "      },\n",
      "      \"Land_50S50N\": {\n",
      "        \"interannual\": 0.1190904801836709,\n",
      "        \"seasonal-annual\": 0.15378031708081302,\n",
      "        \"sub-seasonal\": 0.16796783698785162,\n",
      "        \"synoptic\": 0.08855528980767699\n",
      "      },\n",
      "      \"Ocean_30N50N\": {\n",
      "        \"interannual\": 0.16170674223739231,\n",
      "        \"seasonal-annual\": 0.22737178756054607,\n",
      "        \"sub-seasonal\": 0.23360475871974476,\n",
      "        \"synoptic\": 0.1322991960671455\n",
      "      },\n",
      "      \"Ocean_30S30N\": {\n",
      "        \"interannual\": 0.2829623023485489,\n",
      "        \"seasonal-annual\": 0.350747631311718,\n",
      "        \"sub-seasonal\": 0.34629792209990123,\n",
      "        \"synoptic\": 0.10233159881358753\n",
      "      },\n",
      "      \"Ocean_50S30S\": {\n",
      "        \"interannual\": 0.09620590734427399,\n",
      "        \"seasonal-annual\": 0.15007772033037714,\n",
      "        \"sub-seasonal\": 0.14847019869853495,\n",
      "        \"synoptic\": 0.09568738528149746\n",
      "      },\n",
      "      \"Ocean_50S50N\": {\n",
      "        \"interannual\": 0.22704286825229972,\n",
      "        \"seasonal-annual\": 0.29153170118255495,\n",
      "        \"sub-seasonal\": 0.2890445569068644,\n",
      "        \"synoptic\": 0.10465402728846945\n",
      "      },\n",
      "      \"Total_30N50N\": {\n",
      "        \"interannual\": 0.1263377441721511,\n",
      "        \"seasonal-annual\": 0.1641068914476109,\n",
      "        \"sub-seasonal\": 0.16956154278223443,\n",
      "        \"synoptic\": 0.09780526379670212\n",
      "      },\n",
      "      \"Total_30S30N\": {\n",
      "        \"interannual\": 0.24577658646882128,\n",
      "        \"seasonal-annual\": 0.3088494544648161,\n",
      "        \"sub-seasonal\": 0.3101079460897299,\n",
      "        \"synoptic\": 0.10237663672427914\n",
      "      },\n",
      "      \"Total_50S30S\": {\n",
      "        \"interannual\": 0.09579655644550915,\n",
      "        \"seasonal-annual\": 0.14773732178475096,\n",
      "        \"sub-seasonal\": 0.14818070498049013,\n",
      "        \"synoptic\": 0.09597346443059307\n",
      "      },\n",
      "      \"Total_50S50N\": {\n",
      "        \"interannual\": 0.19899249026137145,\n",
      "        \"seasonal-annual\": 0.25573834392610517,\n",
      "        \"sub-seasonal\": 0.2575839489444821,\n",
      "        \"synoptic\": 0.10047092694588118\n",
      "      }\n",
      "    }\n",
      "  }\n",
      "}\n"
     ]
    }
   ],
   "source": [
    "import json\n",
    "import os\n",
    "output_path = os.path.join(demo_output_directory,\"precip_variability/GPCP-1-3/PS_pr.day_regrid.180x90_area.freq.mean_GPCP-1-3.json\")\n",
    "with open(output_path) as f:\n",
    "    metric = json.load(f)[\"RESULTS\"]\n",
    "print(json.dumps(metric, indent=2))"
   ]
  }
 ],
 "metadata": {
  "kernelspec": {
   "display_name": "Python [conda env:xCDAT_cdat]",
   "language": "python",
   "name": "conda-env-xCDAT_cdat-py"
  },
  "language_info": {
   "codemirror_mode": {
    "name": "ipython",
    "version": 3
   },
   "file_extension": ".py",
   "mimetype": "text/x-python",
   "name": "python",
   "nbconvert_exporter": "python",
   "pygments_lexer": "ipython3",
   "version": "3.10.5"
  }
 },
 "nbformat": 4,
 "nbformat_minor": 4
}
